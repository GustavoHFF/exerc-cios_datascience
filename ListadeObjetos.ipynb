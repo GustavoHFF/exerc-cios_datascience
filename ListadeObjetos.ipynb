{
 "cells": [
  {
   "cell_type": "code",
   "execution_count": 2,
   "id": "60f10f67-8f81-494d-8305-6e981c4a54d0",
   "metadata": {},
   "outputs": [
    {
     "name": "stdout",
     "output_type": "stream",
     "text": [
      "Essses são todos produtos dentro da lista de produtos da loja:\n",
      "\n"
     ]
    },
    {
     "name": "stdin",
     "output_type": "stream",
     "text": [
      "Qual produto você deseja pesquisar? Uva\n"
     ]
    },
    {
     "name": "stdout",
     "output_type": "stream",
     "text": [
      "Foi pesquisado: \"Uva\"\n",
      "Temnos sim o produto Uva, ele custa 2.0\n",
      "\n"
     ]
    },
    {
     "name": "stdin",
     "output_type": "stream",
     "text": [
      "Qual produto você deseja pesquisar? sigma\n"
     ]
    },
    {
     "name": "stdout",
     "output_type": "stream",
     "text": [
      "Foi pesquisando: \"sigma\"\n",
      "Esse produto não temos :(\n"
     ]
    },
    {
     "ename": "NameError",
     "evalue": "name 'printadoProdutos' is not defined",
     "output_type": "error",
     "traceback": [
      "\u001b[0;31m---------------------------------------------------------------------------\u001b[0m",
      "\u001b[0;31mNameError\u001b[0m                                 Traceback (most recent call last)",
      "Cell \u001b[0;32mIn[2], line 25\u001b[0m\n\u001b[1;32m     22\u001b[0m         procurandoProdutos()\n\u001b[1;32m     24\u001b[0m printandoProdutos()\n\u001b[0;32m---> 25\u001b[0m \u001b[43mprocurandoProdutos\u001b[49m\u001b[43m(\u001b[49m\u001b[43m)\u001b[49m\n",
      "Cell \u001b[0;32mIn[2], line 15\u001b[0m, in \u001b[0;36mprocurandoProdutos\u001b[0;34m()\u001b[0m\n\u001b[1;32m     13\u001b[0m     \u001b[38;5;28mprint\u001b[39m(\u001b[38;5;124mf\u001b[39m\u001b[38;5;124m'\u001b[39m\u001b[38;5;124mFoi pesquisado: \u001b[39m\u001b[38;5;130;01m\\\"\u001b[39;00m\u001b[38;5;132;01m{\u001b[39;00mprodutoEscolhido\u001b[38;5;132;01m}\u001b[39;00m\u001b[38;5;130;01m\\\"\u001b[39;00m\u001b[38;5;124m'\u001b[39m)\n\u001b[1;32m     14\u001b[0m     \u001b[38;5;28mprint\u001b[39m(\u001b[38;5;124mf\u001b[39m\u001b[38;5;124m'\u001b[39m\u001b[38;5;124mTemnos sim o produto \u001b[39m\u001b[38;5;132;01m{\u001b[39;00mprodutoEscolhido\u001b[38;5;132;01m}\u001b[39;00m\u001b[38;5;124m, ele custa \u001b[39m\u001b[38;5;132;01m{\u001b[39;00mprodutoEncontrado\u001b[38;5;132;01m}\u001b[39;00m\u001b[38;5;130;01m\\n\u001b[39;00m\u001b[38;5;124m'\u001b[39m)\n\u001b[0;32m---> 15\u001b[0m     \u001b[43mprocurandoProdutos\u001b[49m\u001b[43m(\u001b[49m\u001b[43m)\u001b[49m\n\u001b[1;32m     16\u001b[0m \u001b[38;5;28;01melif\u001b[39;00m produtoEscolhido \u001b[38;5;241m==\u001b[39m \u001b[38;5;124m'\u001b[39m\u001b[38;5;124mFinish\u001b[39m\u001b[38;5;124m'\u001b[39m :\n\u001b[1;32m     17\u001b[0m     \u001b[38;5;28mprint\u001b[39m(\u001b[38;5;124m'\u001b[39m\u001b[38;5;124mBusca finalizada\u001b[39m\u001b[38;5;124m'\u001b[39m)\n",
      "Cell \u001b[0;32mIn[2], line 21\u001b[0m, in \u001b[0;36mprocurandoProdutos\u001b[0;34m()\u001b[0m\n\u001b[1;32m     19\u001b[0m \u001b[38;5;28mprint\u001b[39m(\u001b[38;5;124mf\u001b[39m\u001b[38;5;124m'\u001b[39m\u001b[38;5;124mFoi pesquisando: \u001b[39m\u001b[38;5;130;01m\\\"\u001b[39;00m\u001b[38;5;132;01m{\u001b[39;00mprodutoEscolhido\u001b[38;5;132;01m}\u001b[39;00m\u001b[38;5;130;01m\\\"\u001b[39;00m\u001b[38;5;124m'\u001b[39m)\n\u001b[1;32m     20\u001b[0m \u001b[38;5;28mprint\u001b[39m(\u001b[38;5;124m'\u001b[39m\u001b[38;5;124mEsse produto não temos :(\u001b[39m\u001b[38;5;124m'\u001b[39m)\n\u001b[0;32m---> 21\u001b[0m \u001b[43mprintadoProdutos\u001b[49m()\n\u001b[1;32m     22\u001b[0m procurandoProdutos()\n",
      "\u001b[0;31mNameError\u001b[0m: name 'printadoProdutos' is not defined"
     ]
    }
   ],
   "source": [
    "produtos = {\"Maçã\": 1.00, \"Banana\": 0.50, \"Laranja\": 0.75, \"Uva\": 2.00, \"Pêra\": 1.50}\n",
    "\n",
    "def printandoProdutos() :\n",
    "\n",
    "    print('Essses são todos produtos dentro da lista de produtos da loja:\\n')\n",
    "    nomeProdutos = \", \".join(produtos.keys())\n",
    "\n",
    "def procurandoProdutos() :\n",
    "    produtoEscolhido = input('Qual produto você deseja pesquisar?')\n",
    "    produtoEncontrado = produtos.get(produtoEscolhido)\n",
    "\n",
    "    if produtoEncontrado :\n",
    "        print(f'Foi pesquisado: \\\"{produtoEscolhido}\\\"')\n",
    "        print(f'Temnos sim o produto {produtoEscolhido}, ele custa {produtoEncontrado}\\n')\n",
    "        procurandoProdutos()\n",
    "    elif produtoEscolhido == 'Finish' :\n",
    "        print('Busca finalizada')\n",
    "    else :\n",
    "        print(f'Foi pesquisando: \\\"{produtoEscolhido}\\\"')\n",
    "        print('Esse produto não temos :(')\n",
    "        printadoProdutos()\n",
    "        procurandoProdutos()\n",
    "\n",
    "printandoProdutos()\n",
    "procurandoProdutos()\n"
   ]
  },
  {
   "cell_type": "code",
   "execution_count": null,
   "id": "e2af5009-c72b-4b09-b732-ee6c9c6cc34e",
   "metadata": {},
   "outputs": [],
   "source": []
  }
 ],
 "metadata": {
  "kernelspec": {
   "display_name": "Python 3 (ipykernel)",
   "language": "python",
   "name": "python3"
  },
  "language_info": {
   "codemirror_mode": {
    "name": "ipython",
    "version": 3
   },
   "file_extension": ".py",
   "mimetype": "text/x-python",
   "name": "python",
   "nbconvert_exporter": "python",
   "pygments_lexer": "ipython3",
   "version": "3.11.2"
  }
 },
 "nbformat": 4,
 "nbformat_minor": 5
}
