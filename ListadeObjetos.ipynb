{
 "cells": [
  {
   "cell_type": "code",
   "execution_count": null,
   "id": "60f10f67-8f81-494d-8305-6e981c4a54d0",
   "metadata": {},
   "outputs": [
    {
     "name": "stdout",
     "output_type": "stream",
     "text": [
      "Essses são todos produtos dentro da lista de produtos da loja:\n",
      "\n"
     ]
    },
    {
     "name": "stdin",
     "output_type": "stream",
     "text": [
      "Qual produto você deseja pesquisar? Banana\n"
     ]
    },
    {
     "name": "stdout",
     "output_type": "stream",
     "text": [
      "Foi pesquisado: \"Banana\"\n",
      "Temnos sim o produto Banana, ele custa 0.5\n",
      "\n"
     ]
    }
   ],
   "source": [
    "produtos = {\"Maçã\": 1.00, \"Banana\": 0.50, \"Laranja\": 0.75, \"Uva\": 2.00, \"Pêra\": 1.50}\n",
    "\n",
    "def printandoProdutos() :\n",
    "\n",
    "    print('Essses são todos produtos dentro da lista de produtos da loja:\\n')\n",
    "    nomeProdutos = \", \".join(produtos.keys())\n",
    "\n",
    "def procurandoProdutos() :\n",
    "    produtoEscolhido = input('Qual produto você deseja pesquisar?')\n",
    "    produtoEncontrado = produtos.get(produtoEscolhido)\n",
    "\n",
    "    if produtoEncontrado :\n",
    "        print(f'Foi pesquisado: \\\"{produtoEscolhido}\\\"')\n",
    "        print(f'Temnos sim o produto {produtoEscolhido}, ele custa {produtoEncontrado}\\n')\n",
    "        procurandoProdutos()\n",
    "    elif produtoEscolhido == 'Finish' :\n",
    "        print('Busca finalizada')\n",
    "    else :\n",
    "        print(f'Foi pesquisando: \\\"{produtoEscolhido}\\\"')\n",
    "        print('Esse produto não temos :(')\n",
    "        printadoProdutos()\n",
    "        procurandoProdutos()\n",
    "\n",
    "printandoProdutos()\n",
    "procurandoProdutos()\n"
   ]
  },
  {
   "cell_type": "code",
   "execution_count": null,
   "id": "e2af5009-c72b-4b09-b732-ee6c9c6cc34e",
   "metadata": {},
   "outputs": [],
   "source": []
  }
 ],
 "metadata": {
  "kernelspec": {
   "display_name": "Python 3 (ipykernel)",
   "language": "python",
   "name": "python3"
  },
  "language_info": {
   "codemirror_mode": {
    "name": "ipython",
    "version": 3
   },
   "file_extension": ".py",
   "mimetype": "text/x-python",
   "name": "python",
   "nbconvert_exporter": "python",
   "pygments_lexer": "ipython3",
   "version": "3.11.2"
  }
 },
 "nbformat": 4,
 "nbformat_minor": 5
}
