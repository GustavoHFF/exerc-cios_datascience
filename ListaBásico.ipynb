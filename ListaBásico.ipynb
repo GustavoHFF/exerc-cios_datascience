{
 "cells": [
  {
   "cell_type": "code",
   "execution_count": 7,
   "id": "e4751852-cef6-465b-873a-7458019b62c0",
   "metadata": {},
   "outputs": [
    {
     "data": {
      "text/plain": [
       "[15, 14, 13, 12, 11, 10, 9, 8, 7, 6, 5, 4, 3, 2, 1, 0]"
      ]
     },
     "execution_count": 7,
     "metadata": {},
     "output_type": "execute_result"
    }
   ],
   "source": [
    "lista = [0,1,2,3,4,5,6,7,8,9,10,11,12,13,14,15]\n",
    "lista[::-1]\n"
   ]
  },
  {
   "cell_type": "code",
   "execution_count": 12,
   "id": "1589825e-fb58-4be5-941b-1e79b4a0a333",
   "metadata": {},
   "outputs": [
    {
     "data": {
      "text/plain": [
       "[1, 2, 3, 4, 5, 6, 7, 8, 9]"
      ]
     },
     "execution_count": 12,
     "metadata": {},
     "output_type": "execute_result"
    }
   ],
   "source": [
    "lista[:10] [1:]"
   ]
  },
  {
   "cell_type": "code",
   "execution_count": 13,
   "id": "26f8e8c8-059b-4e8a-af36-11bd821dc3e1",
   "metadata": {},
   "outputs": [
    {
     "data": {
      "text/plain": [
       "[1, 3, 5, 7, 9, 11, 13, 15]"
      ]
     },
     "execution_count": 13,
     "metadata": {},
     "output_type": "execute_result"
    }
   ],
   "source": [
    "lista[1::2]"
   ]
  },
  {
   "cell_type": "code",
   "execution_count": null,
   "id": "07493284-41f9-4faa-b514-2540ca3cd6a7",
   "metadata": {},
   "outputs": [],
   "source": []
  }
 ],
 "metadata": {
  "kernelspec": {
   "display_name": "Python 3 (ipykernel)",
   "language": "python",
   "name": "python3"
  },
  "language_info": {
   "codemirror_mode": {
    "name": "ipython",
    "version": 3
   },
   "file_extension": ".py",
   "mimetype": "text/x-python",
   "name": "python",
   "nbconvert_exporter": "python",
   "pygments_lexer": "ipython3",
   "version": "3.11.2"
  }
 },
 "nbformat": 4,
 "nbformat_minor": 5
}
